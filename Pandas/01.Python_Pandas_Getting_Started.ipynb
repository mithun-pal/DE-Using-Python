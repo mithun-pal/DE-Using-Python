{
 "cells": [
  {
   "cell_type": "markdown",
   "id": "af61f2fa",
   "metadata": {},
   "source": [
    "## Python Pandas Introduction\n",
    "Pandas is an open source python library which was created to do exploratory data analysis\n",
    "in very efficient and meaningfull way.It is one of the top used python library used by Data analyst, Data Engineers and most importantly Data scientist.</br>\n",
    "\n",
    "Official documentation: https://pandas.pydata.org/docs/</br>\n",
    "\n",
    "Pandas is built based on two major Data structure  \n",
    "&#9658; <font color=green>DataFrame</font>, two dimensional Table like structure consisting of rows and columns.  \n",
    "&#9658; <font color=green>Series</font>, one dimensional analogous to column in Table.  \n",
    "\n",
    "Below are some most commonly performed data analysis activity using Pandas -\n",
    "- Read and create DataFrame from different kind of source system like csv, json, excel, database Tables etc.\n",
    "- Manipulating data by applying filter condition, sorting, adding/removing columns.\n",
    "- Performing grouping and aggreagating the Data.\n",
    "- Handling missing/bad records.\n",
    "- Write to different type of target format like json, csv, excel, RDBMS Table etc."
   ]
  },
  {
   "cell_type": "markdown",
   "id": "f9af3a00",
   "metadata": {},
   "source": [
    "### 1. Creating Pandas DataFrame\n",
    "Pandas Dataframe can be created by reading different kind of external storage like Database Tables, various file formats CSV, json, text etc. Also it can be created by passing the python's in built Data Structures like Lists and Dict aka Dictionary.\n",
    "Below example shows creating a pandas Dataframe form a Dict object."
   ]
  },
  {
   "cell_type": "code",
   "execution_count": 35,
   "id": "a0be8244",
   "metadata": {},
   "outputs": [],
   "source": [
    "# import pandas librabry as pd, which is widely used alias for pandas\n",
    "import pandas as pd\n",
    "# Dict object of key value pair, called artists\n",
    "artists = {\"a id\":[1001, 1002, 1003, 1004, 1005],\n",
    "\"NAMe\" : [\"Katy Perry\",\"Jacques Brel\",\"Tove Lo\",\"KK\", \"Vince Jones\"],\n",
    "\"DOB\": [\"1984-10-25\",\"1929-04-08\",\"1987-10-29\",\"1968-08-23\",\"1954-03-24\",],\n",
    "\"Genre\":[\"Pop\", \"Chanson\",\"Alternative/Indie\", \"Rock\", 'Jazz'],\n",
    "\"country\": [\"United States\",\"Belgium\", \"Sweden\", \"India\", \"Australia\"]\n",
    "}"
   ]
  },
  {
   "cell_type": "code",
   "execution_count": 36,
   "id": "203a422f",
   "metadata": {},
   "outputs": [],
   "source": [
    "# Created Dataframe object artist_df by passing the dict object to DataFrame function of pandas library\n",
    "artist_df = pd.DataFrame(artists)"
   ]
  },
  {
   "cell_type": "code",
   "execution_count": 37,
   "id": "b5bad917",
   "metadata": {},
   "outputs": [
    {
     "data": {
      "text/html": [
       "<div>\n",
       "<style scoped>\n",
       "    .dataframe tbody tr th:only-of-type {\n",
       "        vertical-align: middle;\n",
       "    }\n",
       "\n",
       "    .dataframe tbody tr th {\n",
       "        vertical-align: top;\n",
       "    }\n",
       "\n",
       "    .dataframe thead th {\n",
       "        text-align: right;\n",
       "    }\n",
       "</style>\n",
       "<table border=\"1\" class=\"dataframe\">\n",
       "  <thead>\n",
       "    <tr style=\"text-align: right;\">\n",
       "      <th></th>\n",
       "      <th>a id</th>\n",
       "      <th>NAMe</th>\n",
       "      <th>DOB</th>\n",
       "      <th>Genre</th>\n",
       "      <th>country</th>\n",
       "    </tr>\n",
       "  </thead>\n",
       "  <tbody>\n",
       "    <tr>\n",
       "      <th>0</th>\n",
       "      <td>1001</td>\n",
       "      <td>Katy Perry</td>\n",
       "      <td>1984-10-25</td>\n",
       "      <td>Pop</td>\n",
       "      <td>United States</td>\n",
       "    </tr>\n",
       "    <tr>\n",
       "      <th>1</th>\n",
       "      <td>1002</td>\n",
       "      <td>Jacques Brel</td>\n",
       "      <td>1929-04-08</td>\n",
       "      <td>Chanson</td>\n",
       "      <td>Belgium</td>\n",
       "    </tr>\n",
       "  </tbody>\n",
       "</table>\n",
       "</div>"
      ],
      "text/plain": [
       "   a id          NAMe         DOB    Genre        country\n",
       "0  1001    Katy Perry  1984-10-25      Pop  United States\n",
       "1  1002  Jacques Brel  1929-04-08  Chanson        Belgium"
      ]
     },
     "execution_count": 37,
     "metadata": {},
     "output_type": "execute_result"
    }
   ],
   "source": [
    "artist_df.head(2) # Defaults to top 5 rows"
   ]
  },
  {
   "cell_type": "code",
   "execution_count": 38,
   "id": "ffa5c155",
   "metadata": {},
   "outputs": [
    {
     "data": {
      "text/html": [
       "<div>\n",
       "<style scoped>\n",
       "    .dataframe tbody tr th:only-of-type {\n",
       "        vertical-align: middle;\n",
       "    }\n",
       "\n",
       "    .dataframe tbody tr th {\n",
       "        vertical-align: top;\n",
       "    }\n",
       "\n",
       "    .dataframe thead th {\n",
       "        text-align: right;\n",
       "    }\n",
       "</style>\n",
       "<table border=\"1\" class=\"dataframe\">\n",
       "  <thead>\n",
       "    <tr style=\"text-align: right;\">\n",
       "      <th></th>\n",
       "      <th>a id</th>\n",
       "      <th>NAMe</th>\n",
       "      <th>DOB</th>\n",
       "      <th>Genre</th>\n",
       "      <th>country</th>\n",
       "    </tr>\n",
       "  </thead>\n",
       "  <tbody>\n",
       "    <tr>\n",
       "      <th>3</th>\n",
       "      <td>1004</td>\n",
       "      <td>KK</td>\n",
       "      <td>1968-08-23</td>\n",
       "      <td>Rock</td>\n",
       "      <td>India</td>\n",
       "    </tr>\n",
       "    <tr>\n",
       "      <th>4</th>\n",
       "      <td>1005</td>\n",
       "      <td>Vince Jones</td>\n",
       "      <td>1954-03-24</td>\n",
       "      <td>Jazz</td>\n",
       "      <td>Australia</td>\n",
       "    </tr>\n",
       "  </tbody>\n",
       "</table>\n",
       "</div>"
      ],
      "text/plain": [
       "   a id         NAMe         DOB Genre    country\n",
       "3  1004           KK  1968-08-23  Rock      India\n",
       "4  1005  Vince Jones  1954-03-24  Jazz  Australia"
      ]
     },
     "execution_count": 38,
     "metadata": {},
     "output_type": "execute_result"
    }
   ],
   "source": [
    "artist_df.tail(2) # Defaults to bottom 5 rows"
   ]
  },
  {
   "cell_type": "code",
   "execution_count": 39,
   "id": "36bd7cdc",
   "metadata": {},
   "outputs": [
    {
     "data": {
      "text/plain": [
       "Index(['a id', 'NAMe', 'DOB', 'Genre', 'country'], dtype='object')"
      ]
     },
     "execution_count": 39,
     "metadata": {},
     "output_type": "execute_result"
    }
   ],
   "source": [
    "# Get the column name using columns attribute\n",
    "artist_df.columns"
   ]
  },
  {
   "cell_type": "code",
   "execution_count": 40,
   "id": "261a7079",
   "metadata": {},
   "outputs": [
    {
     "data": {
      "text/plain": [
       "(5, 5)"
      ]
     },
     "execution_count": 40,
     "metadata": {},
     "output_type": "execute_result"
    }
   ],
   "source": [
    "# Getting the number of rows and columns of the DataFrame by calling the 'shape' attribute\n",
    "artist_df.shape   # 5 rows 5 columns"
   ]
  },
  {
   "cell_type": "code",
   "execution_count": 41,
   "id": "240474b3",
   "metadata": {},
   "outputs": [
    {
     "name": "stdout",
     "output_type": "stream",
     "text": [
      "<class 'pandas.core.frame.DataFrame'>\n",
      "RangeIndex: 5 entries, 0 to 4\n",
      "Data columns (total 5 columns):\n",
      " #   Column   Non-Null Count  Dtype \n",
      "---  ------   --------------  ----- \n",
      " 0   a id     5 non-null      int64 \n",
      " 1   NAMe     5 non-null      object\n",
      " 2   DOB      5 non-null      object\n",
      " 3   Genre    5 non-null      object\n",
      " 4   country  5 non-null      object\n",
      "dtypes: int64(1), object(4)\n",
      "memory usage: 328.0+ bytes\n"
     ]
    }
   ],
   "source": [
    "# info() function shows all basic details of the DataFrame\n",
    "# Like column name, nullability, datatype. \n",
    "# Object type generally refers to string type\n",
    "artist_df.info()"
   ]
  },
  {
   "cell_type": "markdown",
   "id": "8006765d",
   "metadata": {},
   "source": [
    "### 2. Renaming the Columns\n",
    "Lets rename the column, as some of the Column name does not follow the naming standards or   best practices. This can be done by using rename() function or some other technique."
   ]
  },
  {
   "cell_type": "code",
   "execution_count": 42,
   "id": "cd58fc8d",
   "metadata": {},
   "outputs": [
    {
     "data": {
      "text/plain": [
       "Index(['a id', 'name', 'DOB', 'genre', 'country'], dtype='object')"
      ]
     },
     "execution_count": 42,
     "metadata": {},
     "output_type": "execute_result"
    }
   ],
   "source": [
    "# Creating a Dict object with old and new column name mapping\n",
    "new_cols = {\"NAMe\": \"name\",\n",
    "           \"Genre\": \"genre\"\n",
    "           }\n",
    "# Passing the Dict object containing the column name mapping to columns keyword arg\n",
    "artist_df.rename(columns = new_cols, inplace=True)\n",
    "artist_df.columns"
   ]
  },
  {
   "cell_type": "code",
   "execution_count": 43,
   "id": "0b85befc",
   "metadata": {},
   "outputs": [
    {
     "data": {
      "text/plain": [
       "Index(['a id', 'name', 'dob', 'genre', 'country'], dtype='object')"
      ]
     },
     "execution_count": 43,
     "metadata": {},
     "output_type": "execute_result"
    }
   ],
   "source": [
    "# Changing to lower case by using list comprehension\n",
    "artist_df.columns = [col.lower() for col in artist_df.columns]\n",
    "artist_df.columns"
   ]
  },
  {
   "cell_type": "code",
   "execution_count": 44,
   "id": "165c9df7",
   "metadata": {},
   "outputs": [
    {
     "data": {
      "text/plain": [
       "Index(['a_id', 'name', 'dob', 'genre', 'country'], dtype='object')"
      ]
     },
     "execution_count": 44,
     "metadata": {},
     "output_type": "execute_result"
    }
   ],
   "source": [
    "# Replacing space with underscore\n",
    "artist_df.columns = artist_df.columns.str.replace(' ', '_')\n",
    "artist_df.columns"
   ]
  },
  {
   "cell_type": "markdown",
   "id": "9f0f4d87",
   "metadata": {},
   "source": [
    "### 3. Operations on Rows and Columns\n",
    "Some of the common operation performed on DataFrame's Rows and Columns are selection, addition and deletion."
   ]
  },
  {
   "cell_type": "markdown",
   "id": "d89ea9c9",
   "metadata": {},
   "source": [
    "- __Selecting Columns__\n",
    "\n",
    "Columns can be selected by passing the specific column name or list of column name in case of multiple selection"
   ]
  },
  {
   "cell_type": "code",
   "execution_count": 45,
   "id": "64f13bfc",
   "metadata": {},
   "outputs": [
    {
     "data": {
      "text/plain": [
       "0      Katy Perry\n",
       "1    Jacques Brel\n",
       "2         Tove Lo\n",
       "3              KK\n",
       "4     Vince Jones\n",
       "Name: name, dtype: object"
      ]
     },
     "execution_count": 45,
     "metadata": {},
     "output_type": "execute_result"
    }
   ],
   "source": [
    "# Selecting one Column\n",
    "artist_df['name']"
   ]
  },
  {
   "cell_type": "code",
   "execution_count": 46,
   "id": "232f9b55",
   "metadata": {},
   "outputs": [
    {
     "data": {
      "text/plain": [
       "pandas.core.series.Series"
      ]
     },
     "execution_count": 46,
     "metadata": {},
     "output_type": "execute_result"
    }
   ],
   "source": [
    "# Getting the type of 'name' Field/Column, which is Series\n",
    "type(artist_df['name'])"
   ]
  },
  {
   "cell_type": "code",
   "execution_count": 47,
   "id": "2f54abb8",
   "metadata": {},
   "outputs": [
    {
     "data": {
      "text/html": [
       "<div>\n",
       "<style scoped>\n",
       "    .dataframe tbody tr th:only-of-type {\n",
       "        vertical-align: middle;\n",
       "    }\n",
       "\n",
       "    .dataframe tbody tr th {\n",
       "        vertical-align: top;\n",
       "    }\n",
       "\n",
       "    .dataframe thead th {\n",
       "        text-align: right;\n",
       "    }\n",
       "</style>\n",
       "<table border=\"1\" class=\"dataframe\">\n",
       "  <thead>\n",
       "    <tr style=\"text-align: right;\">\n",
       "      <th></th>\n",
       "      <th>name</th>\n",
       "      <th>country</th>\n",
       "    </tr>\n",
       "  </thead>\n",
       "  <tbody>\n",
       "    <tr>\n",
       "      <th>0</th>\n",
       "      <td>Katy Perry</td>\n",
       "      <td>United States</td>\n",
       "    </tr>\n",
       "    <tr>\n",
       "      <th>1</th>\n",
       "      <td>Jacques Brel</td>\n",
       "      <td>Belgium</td>\n",
       "    </tr>\n",
       "    <tr>\n",
       "      <th>2</th>\n",
       "      <td>Tove Lo</td>\n",
       "      <td>Sweden</td>\n",
       "    </tr>\n",
       "    <tr>\n",
       "      <th>3</th>\n",
       "      <td>KK</td>\n",
       "      <td>India</td>\n",
       "    </tr>\n",
       "    <tr>\n",
       "      <th>4</th>\n",
       "      <td>Vince Jones</td>\n",
       "      <td>Australia</td>\n",
       "    </tr>\n",
       "  </tbody>\n",
       "</table>\n",
       "</div>"
      ],
      "text/plain": [
       "           name        country\n",
       "0    Katy Perry  United States\n",
       "1  Jacques Brel        Belgium\n",
       "2       Tove Lo         Sweden\n",
       "3            KK          India\n",
       "4   Vince Jones      Australia"
      ]
     },
     "execution_count": 47,
     "metadata": {},
     "output_type": "execute_result"
    }
   ],
   "source": [
    "# Selecting multiple Columns by passing a list of Column name\n",
    "artist_df[['name', 'country']]"
   ]
  },
  {
   "cell_type": "code",
   "execution_count": 48,
   "id": "c6a7b4c5",
   "metadata": {},
   "outputs": [
    {
     "data": {
      "text/plain": [
       "pandas.core.frame.DataFrame"
      ]
     },
     "execution_count": 48,
     "metadata": {},
     "output_type": "execute_result"
    }
   ],
   "source": [
    "# When getting multiple columns, pandas returns that as DataFrame\n",
    "type(artist_df[['name', 'country']])"
   ]
  },
  {
   "cell_type": "markdown",
   "id": "3b24ec3c",
   "metadata": {},
   "source": [
    "- __Selecting rows__\n",
    "\n",
    "Pandas provides iloc() and loc() function to fetch specific rows from a DataFrame.  \n",
    "&#9755; iloc() - used this when fetching the rows by index number, 0 based index  \n",
    "&#9755; loc() - this is used to get rows by labels"
   ]
  },
  {
   "cell_type": "code",
   "execution_count": 49,
   "id": "7b21d8ac",
   "metadata": {},
   "outputs": [
    {
     "data": {
      "text/plain": [
       "a_id                1001\n",
       "name          Katy Perry\n",
       "dob           1984-10-25\n",
       "genre                Pop\n",
       "country    United States\n",
       "Name: 0, dtype: object"
      ]
     },
     "execution_count": 49,
     "metadata": {},
     "output_type": "execute_result"
    }
   ],
   "source": [
    "# Single row in 0th index\n",
    "artist_df.iloc[0]"
   ]
  },
  {
   "cell_type": "code",
   "execution_count": 50,
   "id": "0cd85455",
   "metadata": {},
   "outputs": [
    {
     "data": {
      "text/html": [
       "<div>\n",
       "<style scoped>\n",
       "    .dataframe tbody tr th:only-of-type {\n",
       "        vertical-align: middle;\n",
       "    }\n",
       "\n",
       "    .dataframe tbody tr th {\n",
       "        vertical-align: top;\n",
       "    }\n",
       "\n",
       "    .dataframe thead th {\n",
       "        text-align: right;\n",
       "    }\n",
       "</style>\n",
       "<table border=\"1\" class=\"dataframe\">\n",
       "  <thead>\n",
       "    <tr style=\"text-align: right;\">\n",
       "      <th></th>\n",
       "      <th>a_id</th>\n",
       "      <th>name</th>\n",
       "      <th>dob</th>\n",
       "      <th>genre</th>\n",
       "      <th>country</th>\n",
       "    </tr>\n",
       "  </thead>\n",
       "  <tbody>\n",
       "    <tr>\n",
       "      <th>0</th>\n",
       "      <td>1001</td>\n",
       "      <td>Katy Perry</td>\n",
       "      <td>1984-10-25</td>\n",
       "      <td>Pop</td>\n",
       "      <td>United States</td>\n",
       "    </tr>\n",
       "    <tr>\n",
       "      <th>1</th>\n",
       "      <td>1002</td>\n",
       "      <td>Jacques Brel</td>\n",
       "      <td>1929-04-08</td>\n",
       "      <td>Chanson</td>\n",
       "      <td>Belgium</td>\n",
       "    </tr>\n",
       "  </tbody>\n",
       "</table>\n",
       "</div>"
      ],
      "text/plain": [
       "   a_id          name         dob    genre        country\n",
       "0  1001    Katy Perry  1984-10-25      Pop  United States\n",
       "1  1002  Jacques Brel  1929-04-08  Chanson        Belgium"
      ]
     },
     "execution_count": 50,
     "metadata": {},
     "output_type": "execute_result"
    }
   ],
   "source": [
    "# Multiple row in 0 and 1st index\n",
    "artist_df.iloc[[0, 1]]"
   ]
  },
  {
   "cell_type": "code",
   "execution_count": 51,
   "id": "53e14b88",
   "metadata": {},
   "outputs": [
    {
     "data": {
      "text/plain": [
       "2    1003\n",
       "3    1004\n",
       "Name: a_id, dtype: int64"
      ]
     },
     "execution_count": 51,
     "metadata": {},
     "output_type": "execute_result"
    }
   ],
   "source": [
    "# Specific Columns from specific Rows\n",
    "# Pass list of indexes for Rows\n",
    "artist_df.iloc[[2,3], 0] # First argument=row index, second argument=col index"
   ]
  },
  {
   "cell_type": "code",
   "execution_count": 52,
   "id": "9894bccf",
   "metadata": {},
   "outputs": [
    {
     "data": {
      "text/html": [
       "<div>\n",
       "<style scoped>\n",
       "    .dataframe tbody tr th:only-of-type {\n",
       "        vertical-align: middle;\n",
       "    }\n",
       "\n",
       "    .dataframe tbody tr th {\n",
       "        vertical-align: top;\n",
       "    }\n",
       "\n",
       "    .dataframe thead th {\n",
       "        text-align: right;\n",
       "    }\n",
       "</style>\n",
       "<table border=\"1\" class=\"dataframe\">\n",
       "  <thead>\n",
       "    <tr style=\"text-align: right;\">\n",
       "      <th></th>\n",
       "      <th>a_id</th>\n",
       "      <th>name</th>\n",
       "    </tr>\n",
       "  </thead>\n",
       "  <tbody>\n",
       "    <tr>\n",
       "      <th>2</th>\n",
       "      <td>1003</td>\n",
       "      <td>Tove Lo</td>\n",
       "    </tr>\n",
       "    <tr>\n",
       "      <th>3</th>\n",
       "      <td>1004</td>\n",
       "      <td>KK</td>\n",
       "    </tr>\n",
       "  </tbody>\n",
       "</table>\n",
       "</div>"
      ],
      "text/plain": [
       "   a_id     name\n",
       "2  1003  Tove Lo\n",
       "3  1004       KK"
      ]
     },
     "execution_count": 52,
     "metadata": {},
     "output_type": "execute_result"
    }
   ],
   "source": [
    "# Pass list of indexes for Columns as well to get multiple Columns\n",
    "artist_df.iloc[[2,3], [0, 1]] # First argument=row index, second argument=col index"
   ]
  },
  {
   "cell_type": "markdown",
   "id": "81df14bf",
   "metadata": {},
   "source": [
    "### 4. Index column in DataFrame\n",
    "Lets understand index column of Pandas DataFrame before using loc() function.\n",
    "Every DataFrame created in pandas contains an index field/column. This is to provide an unique identifier to each rows in the DataFrame. It can be corelated to primary key or more specifically surrogate key(when it is implicit) with a Database Table.\n",
    "This can be explicitly set to another existing column(preferably the one having distinct values) available in the DataFrame."
   ]
  },
  {
   "cell_type": "code",
   "execution_count": 53,
   "id": "88689764",
   "metadata": {},
   "outputs": [
    {
     "data": {
      "text/plain": [
       "RangeIndex(start=0, stop=5, step=1)"
      ]
     },
     "execution_count": 53,
     "metadata": {},
     "output_type": "execute_result"
    }
   ],
   "source": [
    "# Use index attribute to get the index details which is implitly set by DataFrame API\n",
    "artist_df.index"
   ]
  },
  {
   "cell_type": "code",
   "execution_count": 54,
   "id": "5bf69790",
   "metadata": {},
   "outputs": [
    {
     "data": {
      "text/plain": [
       "pandas.core.indexes.range.RangeIndex"
      ]
     },
     "execution_count": 54,
     "metadata": {},
     "output_type": "execute_result"
    }
   ],
   "source": [
    "type(artist_df.index)"
   ]
  },
  {
   "cell_type": "code",
   "execution_count": 55,
   "id": "2576049f",
   "metadata": {},
   "outputs": [
    {
     "data": {
      "text/html": [
       "<div>\n",
       "<style scoped>\n",
       "    .dataframe tbody tr th:only-of-type {\n",
       "        vertical-align: middle;\n",
       "    }\n",
       "\n",
       "    .dataframe tbody tr th {\n",
       "        vertical-align: top;\n",
       "    }\n",
       "\n",
       "    .dataframe thead th {\n",
       "        text-align: right;\n",
       "    }\n",
       "</style>\n",
       "<table border=\"1\" class=\"dataframe\">\n",
       "  <thead>\n",
       "    <tr style=\"text-align: right;\">\n",
       "      <th></th>\n",
       "      <th>name</th>\n",
       "      <th>dob</th>\n",
       "      <th>genre</th>\n",
       "      <th>country</th>\n",
       "    </tr>\n",
       "    <tr>\n",
       "      <th>a_id</th>\n",
       "      <th></th>\n",
       "      <th></th>\n",
       "      <th></th>\n",
       "      <th></th>\n",
       "    </tr>\n",
       "  </thead>\n",
       "  <tbody>\n",
       "    <tr>\n",
       "      <th>1001</th>\n",
       "      <td>Katy Perry</td>\n",
       "      <td>1984-10-25</td>\n",
       "      <td>Pop</td>\n",
       "      <td>United States</td>\n",
       "    </tr>\n",
       "    <tr>\n",
       "      <th>1002</th>\n",
       "      <td>Jacques Brel</td>\n",
       "      <td>1929-04-08</td>\n",
       "      <td>Chanson</td>\n",
       "      <td>Belgium</td>\n",
       "    </tr>\n",
       "    <tr>\n",
       "      <th>1003</th>\n",
       "      <td>Tove Lo</td>\n",
       "      <td>1987-10-29</td>\n",
       "      <td>Alternative/Indie</td>\n",
       "      <td>Sweden</td>\n",
       "    </tr>\n",
       "    <tr>\n",
       "      <th>1004</th>\n",
       "      <td>KK</td>\n",
       "      <td>1968-08-23</td>\n",
       "      <td>Rock</td>\n",
       "      <td>India</td>\n",
       "    </tr>\n",
       "    <tr>\n",
       "      <th>1005</th>\n",
       "      <td>Vince Jones</td>\n",
       "      <td>1954-03-24</td>\n",
       "      <td>Jazz</td>\n",
       "      <td>Australia</td>\n",
       "    </tr>\n",
       "  </tbody>\n",
       "</table>\n",
       "</div>"
      ],
      "text/plain": [
       "              name         dob              genre        country\n",
       "a_id                                                            \n",
       "1001    Katy Perry  1984-10-25                Pop  United States\n",
       "1002  Jacques Brel  1929-04-08            Chanson        Belgium\n",
       "1003       Tove Lo  1987-10-29  Alternative/Indie         Sweden\n",
       "1004            KK  1968-08-23               Rock          India\n",
       "1005   Vince Jones  1954-03-24               Jazz      Australia"
      ]
     },
     "execution_count": 55,
     "metadata": {},
     "output_type": "execute_result"
    }
   ],
   "source": [
    "# Setting index field to different column in the DataFrame\n",
    "artist_df.set_index('a_id') # It does not set the index of artist_df permanently\n",
    "                                # It returns the view after applying this change"
   ]
  },
  {
   "cell_type": "code",
   "execution_count": 56,
   "id": "aa024457",
   "metadata": {},
   "outputs": [
    {
     "data": {
      "text/plain": [
       "RangeIndex(start=0, stop=5, step=1)"
      ]
     },
     "execution_count": 56,
     "metadata": {},
     "output_type": "execute_result"
    }
   ],
   "source": [
    "artist_df.index # It's still of type RangeIndex"
   ]
  },
  {
   "cell_type": "code",
   "execution_count": 57,
   "id": "1e0b29e2",
   "metadata": {},
   "outputs": [],
   "source": [
    "# It does set the index of artist_df. pass True to inplace keyword arg.\n",
    "artist_df.set_index('a_id', inplace=True)"
   ]
  },
  {
   "cell_type": "code",
   "execution_count": 58,
   "id": "479978a6",
   "metadata": {},
   "outputs": [
    {
     "data": {
      "text/plain": [
       "Int64Index([1001, 1002, 1003, 1004, 1005], dtype='int64', name='a_id')"
      ]
     },
     "execution_count": 58,
     "metadata": {},
     "output_type": "execute_result"
    }
   ],
   "source": [
    "artist_df.index # Below output shows the original DataFrame is now updated in place."
   ]
  },
  {
   "cell_type": "code",
   "execution_count": 59,
   "id": "ebe83e6f",
   "metadata": {},
   "outputs": [
    {
     "data": {
      "text/html": [
       "<div>\n",
       "<style scoped>\n",
       "    .dataframe tbody tr th:only-of-type {\n",
       "        vertical-align: middle;\n",
       "    }\n",
       "\n",
       "    .dataframe tbody tr th {\n",
       "        vertical-align: top;\n",
       "    }\n",
       "\n",
       "    .dataframe thead th {\n",
       "        text-align: right;\n",
       "    }\n",
       "</style>\n",
       "<table border=\"1\" class=\"dataframe\">\n",
       "  <thead>\n",
       "    <tr style=\"text-align: right;\">\n",
       "      <th></th>\n",
       "      <th>a_id</th>\n",
       "      <th>name</th>\n",
       "      <th>dob</th>\n",
       "      <th>genre</th>\n",
       "      <th>country</th>\n",
       "    </tr>\n",
       "  </thead>\n",
       "  <tbody>\n",
       "    <tr>\n",
       "      <th>0</th>\n",
       "      <td>1001</td>\n",
       "      <td>Katy Perry</td>\n",
       "      <td>1984-10-25</td>\n",
       "      <td>Pop</td>\n",
       "      <td>United States</td>\n",
       "    </tr>\n",
       "    <tr>\n",
       "      <th>1</th>\n",
       "      <td>1002</td>\n",
       "      <td>Jacques Brel</td>\n",
       "      <td>1929-04-08</td>\n",
       "      <td>Chanson</td>\n",
       "      <td>Belgium</td>\n",
       "    </tr>\n",
       "    <tr>\n",
       "      <th>2</th>\n",
       "      <td>1003</td>\n",
       "      <td>Tove Lo</td>\n",
       "      <td>1987-10-29</td>\n",
       "      <td>Alternative/Indie</td>\n",
       "      <td>Sweden</td>\n",
       "    </tr>\n",
       "    <tr>\n",
       "      <th>3</th>\n",
       "      <td>1004</td>\n",
       "      <td>KK</td>\n",
       "      <td>1968-08-23</td>\n",
       "      <td>Rock</td>\n",
       "      <td>India</td>\n",
       "    </tr>\n",
       "    <tr>\n",
       "      <th>4</th>\n",
       "      <td>1005</td>\n",
       "      <td>Vince Jones</td>\n",
       "      <td>1954-03-24</td>\n",
       "      <td>Jazz</td>\n",
       "      <td>Australia</td>\n",
       "    </tr>\n",
       "  </tbody>\n",
       "</table>\n",
       "</div>"
      ],
      "text/plain": [
       "   a_id          name         dob              genre        country\n",
       "0  1001    Katy Perry  1984-10-25                Pop  United States\n",
       "1  1002  Jacques Brel  1929-04-08            Chanson        Belgium\n",
       "2  1003       Tove Lo  1987-10-29  Alternative/Indie         Sweden\n",
       "3  1004            KK  1968-08-23               Rock          India\n",
       "4  1005   Vince Jones  1954-03-24               Jazz      Australia"
      ]
     },
     "execution_count": 59,
     "metadata": {},
     "output_type": "execute_result"
    }
   ],
   "source": [
    "# Reverts the index change.\n",
    "artist_df.reset_index(inplace=False)  # To make it permanent pass True to inplace keyword arg."
   ]
  },
  {
   "cell_type": "code",
   "execution_count": 60,
   "id": "610e5e78",
   "metadata": {},
   "outputs": [
    {
     "data": {
      "text/plain": [
       "name       Jacques Brel\n",
       "dob          1929-04-08\n",
       "genre           Chanson\n",
       "country         Belgium\n",
       "Name: 1002, dtype: object"
      ]
     },
     "execution_count": 60,
     "metadata": {},
     "output_type": "execute_result"
    }
   ],
   "source": [
    "# Using loc() function\n",
    "# Index column's value is label of rows. Using a_id as labels as a_id is set as index.\n",
    "artist_df.loc[1002]"
   ]
  },
  {
   "cell_type": "code",
   "execution_count": 61,
   "id": "148627fc",
   "metadata": {
    "scrolled": true
   },
   "outputs": [
    {
     "data": {
      "text/html": [
       "<div>\n",
       "<style scoped>\n",
       "    .dataframe tbody tr th:only-of-type {\n",
       "        vertical-align: middle;\n",
       "    }\n",
       "\n",
       "    .dataframe tbody tr th {\n",
       "        vertical-align: top;\n",
       "    }\n",
       "\n",
       "    .dataframe thead th {\n",
       "        text-align: right;\n",
       "    }\n",
       "</style>\n",
       "<table border=\"1\" class=\"dataframe\">\n",
       "  <thead>\n",
       "    <tr style=\"text-align: right;\">\n",
       "      <th></th>\n",
       "      <th>name</th>\n",
       "      <th>dob</th>\n",
       "    </tr>\n",
       "    <tr>\n",
       "      <th>a_id</th>\n",
       "      <th></th>\n",
       "      <th></th>\n",
       "    </tr>\n",
       "  </thead>\n",
       "  <tbody>\n",
       "    <tr>\n",
       "      <th>1003</th>\n",
       "      <td>Tove Lo</td>\n",
       "      <td>1987-10-29</td>\n",
       "    </tr>\n",
       "    <tr>\n",
       "      <th>1002</th>\n",
       "      <td>Jacques Brel</td>\n",
       "      <td>1929-04-08</td>\n",
       "    </tr>\n",
       "  </tbody>\n",
       "</table>\n",
       "</div>"
      ],
      "text/plain": [
       "              name         dob\n",
       "a_id                          \n",
       "1003       Tove Lo  1987-10-29\n",
       "1002  Jacques Brel  1929-04-08"
      ]
     },
     "execution_count": 61,
     "metadata": {},
     "output_type": "execute_result"
    }
   ],
   "source": [
    "artist_df.loc[[1003,1002], ['name', 'dob']] # First argument=row label, second argument=col label"
   ]
  },
  {
   "cell_type": "markdown",
   "id": "ea37ce35",
   "metadata": {},
   "source": [
    "- Adding column  \n",
    "Will use adding a list of values as new column and insert() function to add new column"
   ]
  },
  {
   "cell_type": "code",
   "execution_count": 62,
   "id": "be5ab062",
   "metadata": {},
   "outputs": [],
   "source": [
    "# Created occupation list\n",
    "occupation = [\"singer\", \"singer\", \"singer\",\"singer\",\"musician\"]\n",
    "# Added occupation column by assinging the occupation list.\n",
    "# Length of the list and number of index value should match; else pandas will raise ValueError.\n",
    "artist_df['occupation'] = occupation"
   ]
  },
  {
   "cell_type": "code",
   "execution_count": 63,
   "id": "85e7c38d",
   "metadata": {},
   "outputs": [
    {
     "data": {
      "text/html": [
       "<div>\n",
       "<style scoped>\n",
       "    .dataframe tbody tr th:only-of-type {\n",
       "        vertical-align: middle;\n",
       "    }\n",
       "\n",
       "    .dataframe tbody tr th {\n",
       "        vertical-align: top;\n",
       "    }\n",
       "\n",
       "    .dataframe thead th {\n",
       "        text-align: right;\n",
       "    }\n",
       "</style>\n",
       "<table border=\"1\" class=\"dataframe\">\n",
       "  <thead>\n",
       "    <tr style=\"text-align: right;\">\n",
       "      <th></th>\n",
       "      <th>name</th>\n",
       "      <th>dob</th>\n",
       "      <th>genre</th>\n",
       "      <th>popular_album</th>\n",
       "      <th>country</th>\n",
       "      <th>occupation</th>\n",
       "    </tr>\n",
       "    <tr>\n",
       "      <th>a_id</th>\n",
       "      <th></th>\n",
       "      <th></th>\n",
       "      <th></th>\n",
       "      <th></th>\n",
       "      <th></th>\n",
       "      <th></th>\n",
       "    </tr>\n",
       "  </thead>\n",
       "  <tbody>\n",
       "    <tr>\n",
       "      <th>1001</th>\n",
       "      <td>Katy Perry</td>\n",
       "      <td>1984-10-25</td>\n",
       "      <td>Pop</td>\n",
       "      <td>Teenage Dream</td>\n",
       "      <td>United States</td>\n",
       "      <td>singer</td>\n",
       "    </tr>\n",
       "    <tr>\n",
       "      <th>1002</th>\n",
       "      <td>Jacques Brel</td>\n",
       "      <td>1929-04-08</td>\n",
       "      <td>Chanson</td>\n",
       "      <td>N° 5</td>\n",
       "      <td>Belgium</td>\n",
       "      <td>singer</td>\n",
       "    </tr>\n",
       "    <tr>\n",
       "      <th>1003</th>\n",
       "      <td>Tove Lo</td>\n",
       "      <td>1987-10-29</td>\n",
       "      <td>Alternative/Indie</td>\n",
       "      <td>Lady Wood</td>\n",
       "      <td>Sweden</td>\n",
       "      <td>singer</td>\n",
       "    </tr>\n",
       "  </tbody>\n",
       "</table>\n",
       "</div>"
      ],
      "text/plain": [
       "              name         dob              genre  popular_album  \\\n",
       "a_id                                                               \n",
       "1001    Katy Perry  1984-10-25                Pop  Teenage Dream   \n",
       "1002  Jacques Brel  1929-04-08            Chanson           N° 5   \n",
       "1003       Tove Lo  1987-10-29  Alternative/Indie      Lady Wood   \n",
       "\n",
       "            country occupation  \n",
       "a_id                            \n",
       "1001  United States     singer  \n",
       "1002        Belgium     singer  \n",
       "1003         Sweden     singer  "
      ]
     },
     "execution_count": 63,
     "metadata": {},
     "output_type": "execute_result"
    }
   ],
   "source": [
    "# Created popular_album list\n",
    "popular_album = [\"Teenage Dream\",\"N° 5\",\"Lady Wood\",\"Humsafar\",\"Trustworthy Little Sweethearts\"]\n",
    "# Adding popular_album column at index position 3rd\n",
    "artist_df.insert(3, 'popular_album', popular_album)\n",
    "artist_df.head(3)"
   ]
  },
  {
   "cell_type": "markdown",
   "id": "d28e5e68",
   "metadata": {},
   "source": [
    "- Adding Rows"
   ]
  },
  {
   "cell_type": "code",
   "execution_count": 64,
   "id": "bb8b8f42",
   "metadata": {},
   "outputs": [
    {
     "data": {
      "text/html": [
       "<div>\n",
       "<style scoped>\n",
       "    .dataframe tbody tr th:only-of-type {\n",
       "        vertical-align: middle;\n",
       "    }\n",
       "\n",
       "    .dataframe tbody tr th {\n",
       "        vertical-align: top;\n",
       "    }\n",
       "\n",
       "    .dataframe thead th {\n",
       "        text-align: right;\n",
       "    }\n",
       "</style>\n",
       "<table border=\"1\" class=\"dataframe\">\n",
       "  <thead>\n",
       "    <tr style=\"text-align: right;\">\n",
       "      <th></th>\n",
       "      <th>name</th>\n",
       "      <th>dob</th>\n",
       "      <th>genre</th>\n",
       "      <th>popular_album</th>\n",
       "      <th>country</th>\n",
       "      <th>occupation</th>\n",
       "    </tr>\n",
       "    <tr>\n",
       "      <th>a_id</th>\n",
       "      <th></th>\n",
       "      <th></th>\n",
       "      <th></th>\n",
       "      <th></th>\n",
       "      <th></th>\n",
       "      <th></th>\n",
       "    </tr>\n",
       "  </thead>\n",
       "  <tbody>\n",
       "    <tr>\n",
       "      <th>1005</th>\n",
       "      <td>Vince Jones</td>\n",
       "      <td>1954-03-24</td>\n",
       "      <td>Jazz</td>\n",
       "      <td>Trustworthy Little Sweethearts</td>\n",
       "      <td>Australia</td>\n",
       "      <td>musician</td>\n",
       "    </tr>\n",
       "    <tr>\n",
       "      <th>1006</th>\n",
       "      <td>Taylor Swift</td>\n",
       "      <td>NaN</td>\n",
       "      <td>Pop</td>\n",
       "      <td>Speak Now</td>\n",
       "      <td>United States</td>\n",
       "      <td>singer-songwriter</td>\n",
       "    </tr>\n",
       "  </tbody>\n",
       "</table>\n",
       "</div>"
      ],
      "text/plain": [
       "              name         dob genre                   popular_album  \\\n",
       "a_id                                                                   \n",
       "1005   Vince Jones  1954-03-24  Jazz  Trustworthy Little Sweethearts   \n",
       "1006  Taylor Swift         NaN   Pop                       Speak Now   \n",
       "\n",
       "            country         occupation  \n",
       "a_id                                    \n",
       "1005      Australia           musician  \n",
       "1006  United States  singer-songwriter  "
      ]
     },
     "execution_count": 64,
     "metadata": {},
     "output_type": "execute_result"
    }
   ],
   "source": [
    "# Created record Dict Object to be inserted as Row\n",
    "record = {\n",
    "    \"name\":\"Taylor Swift\",\n",
    "    \"DOB\":\"1989-12-13\",\n",
    "    \"genre\":\"Pop\",\n",
    "    \"popular_album\":\"Speak Now\",\n",
    "    \"country\":\"United States\",\n",
    "    \"occupation\":\"singer-songwriter\"\n",
    "}\n",
    "# Assign record to a desired index label\n",
    "artist_df.loc[1006] = record\n",
    "artist_df.tail(2)"
   ]
  },
  {
   "cell_type": "markdown",
   "id": "75121a47",
   "metadata": {},
   "source": [
    "- Deleting Columns  \n",
    "Columns can be deleted by using del keyword as with Dict and also using drop() function"
   ]
  },
  {
   "cell_type": "code",
   "execution_count": 65,
   "id": "c191756d",
   "metadata": {},
   "outputs": [
    {
     "data": {
      "text/html": [
       "<div>\n",
       "<style scoped>\n",
       "    .dataframe tbody tr th:only-of-type {\n",
       "        vertical-align: middle;\n",
       "    }\n",
       "\n",
       "    .dataframe tbody tr th {\n",
       "        vertical-align: top;\n",
       "    }\n",
       "\n",
       "    .dataframe thead th {\n",
       "        text-align: right;\n",
       "    }\n",
       "</style>\n",
       "<table border=\"1\" class=\"dataframe\">\n",
       "  <thead>\n",
       "    <tr style=\"text-align: right;\">\n",
       "      <th></th>\n",
       "      <th>name</th>\n",
       "      <th>dob</th>\n",
       "      <th>genre</th>\n",
       "      <th>popular_album</th>\n",
       "      <th>country</th>\n",
       "    </tr>\n",
       "    <tr>\n",
       "      <th>a_id</th>\n",
       "      <th></th>\n",
       "      <th></th>\n",
       "      <th></th>\n",
       "      <th></th>\n",
       "      <th></th>\n",
       "    </tr>\n",
       "  </thead>\n",
       "  <tbody>\n",
       "    <tr>\n",
       "      <th>1001</th>\n",
       "      <td>Katy Perry</td>\n",
       "      <td>1984-10-25</td>\n",
       "      <td>Pop</td>\n",
       "      <td>Teenage Dream</td>\n",
       "      <td>United States</td>\n",
       "    </tr>\n",
       "    <tr>\n",
       "      <th>1002</th>\n",
       "      <td>Jacques Brel</td>\n",
       "      <td>1929-04-08</td>\n",
       "      <td>Chanson</td>\n",
       "      <td>N° 5</td>\n",
       "      <td>Belgium</td>\n",
       "    </tr>\n",
       "  </tbody>\n",
       "</table>\n",
       "</div>"
      ],
      "text/plain": [
       "              name         dob    genre  popular_album        country\n",
       "a_id                                                                 \n",
       "1001    Katy Perry  1984-10-25      Pop  Teenage Dream  United States\n",
       "1002  Jacques Brel  1929-04-08  Chanson           N° 5        Belgium"
      ]
     },
     "execution_count": 65,
     "metadata": {},
     "output_type": "execute_result"
    }
   ],
   "source": [
    "# Deleting occupation column\n",
    "del artist_df['occupation']\n",
    "artist_df.head(2)"
   ]
  },
  {
   "cell_type": "code",
   "execution_count": 66,
   "id": "a510c5ce",
   "metadata": {},
   "outputs": [
    {
     "data": {
      "text/html": [
       "<div>\n",
       "<style scoped>\n",
       "    .dataframe tbody tr th:only-of-type {\n",
       "        vertical-align: middle;\n",
       "    }\n",
       "\n",
       "    .dataframe tbody tr th {\n",
       "        vertical-align: top;\n",
       "    }\n",
       "\n",
       "    .dataframe thead th {\n",
       "        text-align: right;\n",
       "    }\n",
       "</style>\n",
       "<table border=\"1\" class=\"dataframe\">\n",
       "  <thead>\n",
       "    <tr style=\"text-align: right;\">\n",
       "      <th></th>\n",
       "      <th>name</th>\n",
       "      <th>dob</th>\n",
       "      <th>genre</th>\n",
       "      <th>country</th>\n",
       "    </tr>\n",
       "    <tr>\n",
       "      <th>a_id</th>\n",
       "      <th></th>\n",
       "      <th></th>\n",
       "      <th></th>\n",
       "      <th></th>\n",
       "    </tr>\n",
       "  </thead>\n",
       "  <tbody>\n",
       "    <tr>\n",
       "      <th>1001</th>\n",
       "      <td>Katy Perry</td>\n",
       "      <td>1984-10-25</td>\n",
       "      <td>Pop</td>\n",
       "      <td>United States</td>\n",
       "    </tr>\n",
       "    <tr>\n",
       "      <th>1002</th>\n",
       "      <td>Jacques Brel</td>\n",
       "      <td>1929-04-08</td>\n",
       "      <td>Chanson</td>\n",
       "      <td>Belgium</td>\n",
       "    </tr>\n",
       "  </tbody>\n",
       "</table>\n",
       "</div>"
      ],
      "text/plain": [
       "              name         dob    genre        country\n",
       "a_id                                                  \n",
       "1001    Katy Perry  1984-10-25      Pop  United States\n",
       "1002  Jacques Brel  1929-04-08  Chanson        Belgium"
      ]
     },
     "execution_count": 66,
     "metadata": {},
     "output_type": "execute_result"
    }
   ],
   "source": [
    "# Drops popular_album columns permanently.\n",
    "# Columns keyword arg also accepts list of column names for multiple column deletion\n",
    "artist_df.drop(columns='popular_album', inplace=True)\n",
    "artist_df.head(2)"
   ]
  },
  {
   "cell_type": "markdown",
   "id": "20cde75d",
   "metadata": {},
   "source": [
    "- Deleting Rows  \n",
    "Rows also can be deleted by using drop() function"
   ]
  },
  {
   "cell_type": "code",
   "execution_count": 67,
   "id": "dce94595",
   "metadata": {},
   "outputs": [
    {
     "data": {
      "text/html": [
       "<div>\n",
       "<style scoped>\n",
       "    .dataframe tbody tr th:only-of-type {\n",
       "        vertical-align: middle;\n",
       "    }\n",
       "\n",
       "    .dataframe tbody tr th {\n",
       "        vertical-align: top;\n",
       "    }\n",
       "\n",
       "    .dataframe thead th {\n",
       "        text-align: right;\n",
       "    }\n",
       "</style>\n",
       "<table border=\"1\" class=\"dataframe\">\n",
       "  <thead>\n",
       "    <tr style=\"text-align: right;\">\n",
       "      <th></th>\n",
       "      <th>name</th>\n",
       "      <th>dob</th>\n",
       "      <th>genre</th>\n",
       "      <th>country</th>\n",
       "    </tr>\n",
       "    <tr>\n",
       "      <th>a_id</th>\n",
       "      <th></th>\n",
       "      <th></th>\n",
       "      <th></th>\n",
       "      <th></th>\n",
       "    </tr>\n",
       "  </thead>\n",
       "  <tbody>\n",
       "    <tr>\n",
       "      <th>1001</th>\n",
       "      <td>Katy Perry</td>\n",
       "      <td>1984-10-25</td>\n",
       "      <td>Pop</td>\n",
       "      <td>United States</td>\n",
       "    </tr>\n",
       "    <tr>\n",
       "      <th>1003</th>\n",
       "      <td>Tove Lo</td>\n",
       "      <td>1987-10-29</td>\n",
       "      <td>Alternative/Indie</td>\n",
       "      <td>Sweden</td>\n",
       "    </tr>\n",
       "    <tr>\n",
       "      <th>1004</th>\n",
       "      <td>KK</td>\n",
       "      <td>1968-08-23</td>\n",
       "      <td>Rock</td>\n",
       "      <td>India</td>\n",
       "    </tr>\n",
       "    <tr>\n",
       "      <th>1005</th>\n",
       "      <td>Vince Jones</td>\n",
       "      <td>1954-03-24</td>\n",
       "      <td>Jazz</td>\n",
       "      <td>Australia</td>\n",
       "    </tr>\n",
       "    <tr>\n",
       "      <th>1006</th>\n",
       "      <td>Taylor Swift</td>\n",
       "      <td>NaN</td>\n",
       "      <td>Pop</td>\n",
       "      <td>United States</td>\n",
       "    </tr>\n",
       "  </tbody>\n",
       "</table>\n",
       "</div>"
      ],
      "text/plain": [
       "              name         dob              genre        country\n",
       "a_id                                                            \n",
       "1001    Katy Perry  1984-10-25                Pop  United States\n",
       "1003       Tove Lo  1987-10-29  Alternative/Indie         Sweden\n",
       "1004            KK  1968-08-23               Rock          India\n",
       "1005   Vince Jones  1954-03-24               Jazz      Australia\n",
       "1006  Taylor Swift         NaN                Pop  United States"
      ]
     },
     "execution_count": 67,
     "metadata": {},
     "output_type": "execute_result"
    }
   ],
   "source": [
    "# Deleting row with specific label\n",
    "artist_df.drop(index = 1002, inplace=True)\n",
    "artist_df"
   ]
  }
 ],
 "metadata": {
  "kernelspec": {
   "display_name": "Python 3",
   "language": "python",
   "name": "python3"
  },
  "language_info": {
   "codemirror_mode": {
    "name": "ipython",
    "version": 3
   },
   "file_extension": ".py",
   "mimetype": "text/x-python",
   "name": "python",
   "nbconvert_exporter": "python",
   "pygments_lexer": "ipython3",
   "version": "3.7.11"
  }
 },
 "nbformat": 4,
 "nbformat_minor": 5
}
