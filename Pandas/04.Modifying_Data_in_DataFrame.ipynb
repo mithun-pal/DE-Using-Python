{
 "cells": [
  {
   "cell_type": "markdown",
   "id": "1c892fe7",
   "metadata": {},
   "source": [
    "# Data Modification in DataFrame\n",
    "Data in pandas DataFrame can be modified in various ways. We can change the value with assignment operator.\n",
    "Also pandas provide below useful Functions to perform some advance data manipulation and modification operations.\n",
    "1. apply() - This is a higher order Function, used to apply a function in the whole dataframe or in a Series Object.\n",
    "The behaviour of the outcome of the applied function varies whether it is applied on DataFrame or Series object.\n",
    "We can retrieve certain information of Series object or from whole DataFrame by passing the relevant function to apply().\n",
    "2. applymap() - Use this higher order Function when you want to apply a function to every element of a dataframe.Series object does not have applymap().\n",
    "3. map() - Applicable only to Series object, does replacing the value for given one. Adds NaN for non given value. Accepts dict, Series and also Function as argument. \n",
    "4. replace() - Applicable only to Series object, does replacing the value for given one. Keeps other as it is."
   ]
  },
  {
   "cell_type": "code",
   "execution_count": 1,
   "id": "69e3b50a",
   "metadata": {},
   "outputs": [],
   "source": [
    "import pandas as pd\n",
    "\n",
    "footballer_bkp = {\"first_name\":[\"Leonardo\", \"Bernardo\", \" Antoine\",\"Loris\",\"Alexis\"],\n",
    "          \"last_name\":[\"Bonucci \", \" Silva\", \"Griezmann\",\"Karius\",\"Saelemaekers\"],\n",
    "          \"age\": [\"34\", \"26\", \"30\", \"28\", \"22\"],\n",
    "          \"position\":[\"Centre-Back\", \"Midfielder\", \"Forward\", \"Golkeeper\", \"Right Winger\"],\n",
    "          \"club\":[\"Juventus\", \"Manchester City\", \"Barcelona\", \"Liverpool\",\"A.C. Milan\"],\n",
    "          \"nationality\": [\"Italy\", \"Portugal\", \"France\", \"Germany\", \"Belgium\"]\n",
    "        }\n",
    "\n",
    "footballer = {\"first_name\":[\"leonardo\", \"bernardo\", \"antoine\",\"loris\",\"alexis\"],\n",
    "          \"last_name\":[\"Bonucci \", \" Silva\", \"Griezmann\",\"Karius\",\"Saelemaekers\"],\n",
    "          \"age\": [\"32\", \"26\", \"30\", \"28\", \"22\"],\n",
    "          \"position\":[\"Defender\", \"Midfielder\", \"Forward\", \"Golkeeper\", \"Centre-Forward\"],\n",
    "          \"club\":[\"Juventus\", \"Manchester United\", \"Barcelona\", \"Liverpool\",\"A.C. Milan\"],\n",
    "          \"nationality\": [\"Spain\", \"Portugal\", \"France\", \"Germany\", \"Belgium\"]\n",
    "        }"
   ]
  },
  {
   "cell_type": "code",
   "execution_count": 2,
   "id": "13d34d8b",
   "metadata": {
    "scrolled": true
   },
   "outputs": [
    {
     "data": {
      "text/html": [
       "<div>\n",
       "<style scoped>\n",
       "    .dataframe tbody tr th:only-of-type {\n",
       "        vertical-align: middle;\n",
       "    }\n",
       "\n",
       "    .dataframe tbody tr th {\n",
       "        vertical-align: top;\n",
       "    }\n",
       "\n",
       "    .dataframe thead th {\n",
       "        text-align: right;\n",
       "    }\n",
       "</style>\n",
       "<table border=\"1\" class=\"dataframe\">\n",
       "  <thead>\n",
       "    <tr style=\"text-align: right;\">\n",
       "      <th></th>\n",
       "      <th>first_name</th>\n",
       "      <th>last_name</th>\n",
       "      <th>age</th>\n",
       "      <th>position</th>\n",
       "      <th>club</th>\n",
       "      <th>nationality</th>\n",
       "    </tr>\n",
       "  </thead>\n",
       "  <tbody>\n",
       "    <tr>\n",
       "      <th>0</th>\n",
       "      <td>leonardo</td>\n",
       "      <td>Bonucci</td>\n",
       "      <td>32</td>\n",
       "      <td>Defender</td>\n",
       "      <td>Juventus</td>\n",
       "      <td>Spain</td>\n",
       "    </tr>\n",
       "    <tr>\n",
       "      <th>1</th>\n",
       "      <td>bernardo</td>\n",
       "      <td>Silva</td>\n",
       "      <td>26</td>\n",
       "      <td>Midfielder</td>\n",
       "      <td>Manchester United</td>\n",
       "      <td>Portugal</td>\n",
       "    </tr>\n",
       "    <tr>\n",
       "      <th>2</th>\n",
       "      <td>antoine</td>\n",
       "      <td>Griezmann</td>\n",
       "      <td>30</td>\n",
       "      <td>Forward</td>\n",
       "      <td>Barcelona</td>\n",
       "      <td>France</td>\n",
       "    </tr>\n",
       "    <tr>\n",
       "      <th>3</th>\n",
       "      <td>loris</td>\n",
       "      <td>Karius</td>\n",
       "      <td>28</td>\n",
       "      <td>Golkeeper</td>\n",
       "      <td>Liverpool</td>\n",
       "      <td>Germany</td>\n",
       "    </tr>\n",
       "    <tr>\n",
       "      <th>4</th>\n",
       "      <td>alexis</td>\n",
       "      <td>Saelemaekers</td>\n",
       "      <td>22</td>\n",
       "      <td>Centre-Forward</td>\n",
       "      <td>A.C. Milan</td>\n",
       "      <td>Belgium</td>\n",
       "    </tr>\n",
       "  </tbody>\n",
       "</table>\n",
       "</div>"
      ],
      "text/plain": [
       "  first_name     last_name age        position               club nationality\n",
       "0   leonardo      Bonucci   32        Defender           Juventus       Spain\n",
       "1   bernardo         Silva  26      Midfielder  Manchester United    Portugal\n",
       "2    antoine     Griezmann  30         Forward          Barcelona      France\n",
       "3      loris        Karius  28       Golkeeper          Liverpool     Germany\n",
       "4     alexis  Saelemaekers  22  Centre-Forward         A.C. Milan     Belgium"
      ]
     },
     "execution_count": 2,
     "metadata": {},
     "output_type": "execute_result"
    }
   ],
   "source": [
    "footballer_df = pd.DataFrame(footballer)\n",
    "footballer_df"
   ]
  },
  {
   "cell_type": "markdown",
   "id": "2a8a9dbc",
   "metadata": {},
   "source": [
    "## Updating with assignment operator\n",
    "Multiple values or selected value can be updated in this approach. Will use loc() and at() method here."
   ]
  },
  {
   "cell_type": "code",
   "execution_count": 3,
   "id": "1d57dcad",
   "metadata": {
    "scrolled": true
   },
   "outputs": [
    {
     "data": {
      "text/html": [
       "<div>\n",
       "<style scoped>\n",
       "    .dataframe tbody tr th:only-of-type {\n",
       "        vertical-align: middle;\n",
       "    }\n",
       "\n",
       "    .dataframe tbody tr th {\n",
       "        vertical-align: top;\n",
       "    }\n",
       "\n",
       "    .dataframe thead th {\n",
       "        text-align: right;\n",
       "    }\n",
       "</style>\n",
       "<table border=\"1\" class=\"dataframe\">\n",
       "  <thead>\n",
       "    <tr style=\"text-align: right;\">\n",
       "      <th></th>\n",
       "      <th>first_name</th>\n",
       "      <th>last_name</th>\n",
       "      <th>age</th>\n",
       "      <th>position</th>\n",
       "      <th>club</th>\n",
       "      <th>nationality</th>\n",
       "    </tr>\n",
       "  </thead>\n",
       "  <tbody>\n",
       "    <tr>\n",
       "      <th>0</th>\n",
       "      <td>leonardo</td>\n",
       "      <td>Bonucci</td>\n",
       "      <td>34</td>\n",
       "      <td>Centre-Back</td>\n",
       "      <td>Juventus</td>\n",
       "      <td>Italy</td>\n",
       "    </tr>\n",
       "    <tr>\n",
       "      <th>1</th>\n",
       "      <td>bernardo</td>\n",
       "      <td>Silva</td>\n",
       "      <td>26</td>\n",
       "      <td>Midfielder</td>\n",
       "      <td>Manchester United</td>\n",
       "      <td>Portugal</td>\n",
       "    </tr>\n",
       "    <tr>\n",
       "      <th>2</th>\n",
       "      <td>antoine</td>\n",
       "      <td>Griezmann</td>\n",
       "      <td>30</td>\n",
       "      <td>Forward</td>\n",
       "      <td>Barcelona</td>\n",
       "      <td>France</td>\n",
       "    </tr>\n",
       "    <tr>\n",
       "      <th>3</th>\n",
       "      <td>loris</td>\n",
       "      <td>Karius</td>\n",
       "      <td>28</td>\n",
       "      <td>Golkeeper</td>\n",
       "      <td>Liverpool</td>\n",
       "      <td>Germany</td>\n",
       "    </tr>\n",
       "    <tr>\n",
       "      <th>4</th>\n",
       "      <td>alexis</td>\n",
       "      <td>Saelemaekers</td>\n",
       "      <td>22</td>\n",
       "      <td>Centre-Forward</td>\n",
       "      <td>A.C. Milan</td>\n",
       "      <td>Belgium</td>\n",
       "    </tr>\n",
       "  </tbody>\n",
       "</table>\n",
       "</div>"
      ],
      "text/plain": [
       "  first_name     last_name age        position               club nationality\n",
       "0   leonardo      Bonucci   34     Centre-Back           Juventus       Italy\n",
       "1   bernardo         Silva  26      Midfielder  Manchester United    Portugal\n",
       "2    antoine     Griezmann  30         Forward          Barcelona      France\n",
       "3      loris        Karius  28       Golkeeper          Liverpool     Germany\n",
       "4     alexis  Saelemaekers  22  Centre-Forward         A.C. Milan     Belgium"
      ]
     },
     "execution_count": 3,
     "metadata": {},
     "output_type": "execute_result"
    }
   ],
   "source": [
    "# Pass list of columns as second argument to loc() function with their corresponding values to be updated\n",
    "footballer_df.loc[0, ['age', 'position', 'nationality']] = ['34', 'Centre-Back', 'Italy']\n",
    "footballer_df"
   ]
  },
  {
   "cell_type": "code",
   "execution_count": 4,
   "id": "2dbb9ffb",
   "metadata": {
    "scrolled": true
   },
   "outputs": [
    {
     "data": {
      "text/html": [
       "<div>\n",
       "<style scoped>\n",
       "    .dataframe tbody tr th:only-of-type {\n",
       "        vertical-align: middle;\n",
       "    }\n",
       "\n",
       "    .dataframe tbody tr th {\n",
       "        vertical-align: top;\n",
       "    }\n",
       "\n",
       "    .dataframe thead th {\n",
       "        text-align: right;\n",
       "    }\n",
       "</style>\n",
       "<table border=\"1\" class=\"dataframe\">\n",
       "  <thead>\n",
       "    <tr style=\"text-align: right;\">\n",
       "      <th></th>\n",
       "      <th>first_name</th>\n",
       "      <th>last_name</th>\n",
       "      <th>age</th>\n",
       "      <th>position</th>\n",
       "      <th>club</th>\n",
       "      <th>nationality</th>\n",
       "    </tr>\n",
       "  </thead>\n",
       "  <tbody>\n",
       "    <tr>\n",
       "      <th>0</th>\n",
       "      <td>leonardo</td>\n",
       "      <td>Bonucci</td>\n",
       "      <td>32</td>\n",
       "      <td>Defender</td>\n",
       "      <td>Juventus</td>\n",
       "      <td>Italy</td>\n",
       "    </tr>\n",
       "    <tr>\n",
       "      <th>1</th>\n",
       "      <td>bernardo</td>\n",
       "      <td>Silva</td>\n",
       "      <td>26</td>\n",
       "      <td>Midfielder</td>\n",
       "      <td>Manchester United</td>\n",
       "      <td>Portugal</td>\n",
       "    </tr>\n",
       "    <tr>\n",
       "      <th>2</th>\n",
       "      <td>antoine</td>\n",
       "      <td>Griezmann</td>\n",
       "      <td>30</td>\n",
       "      <td>Forward</td>\n",
       "      <td>Barcelona</td>\n",
       "      <td>France</td>\n",
       "    </tr>\n",
       "    <tr>\n",
       "      <th>3</th>\n",
       "      <td>loris</td>\n",
       "      <td>Karius</td>\n",
       "      <td>28</td>\n",
       "      <td>Golkeeper</td>\n",
       "      <td>Liverpool</td>\n",
       "      <td>Germany</td>\n",
       "    </tr>\n",
       "    <tr>\n",
       "      <th>4</th>\n",
       "      <td>alexis</td>\n",
       "      <td>Saelemaekers</td>\n",
       "      <td>22</td>\n",
       "      <td>Centre-Forward</td>\n",
       "      <td>A.C. Milan</td>\n",
       "      <td>Belgium</td>\n",
       "    </tr>\n",
       "  </tbody>\n",
       "</table>\n",
       "</div>"
      ],
      "text/plain": [
       "  first_name     last_name age        position               club nationality\n",
       "0   leonardo      Bonucci   32        Defender           Juventus       Italy\n",
       "1   bernardo         Silva  26      Midfielder  Manchester United    Portugal\n",
       "2    antoine     Griezmann  30         Forward          Barcelona      France\n",
       "3      loris        Karius  28       Golkeeper          Liverpool     Germany\n",
       "4     alexis  Saelemaekers  22  Centre-Forward         A.C. Milan     Belgium"
      ]
     },
     "execution_count": 4,
     "metadata": {},
     "output_type": "execute_result"
    }
   ],
   "source": [
    "# Using at() function also same update can be performed as loc()\n",
    "footballer_df.at[0, ['age', 'position', 'nationality']] = ['32', 'Defender', 'Italy']\n",
    "footballer_df"
   ]
  },
  {
   "cell_type": "code",
   "execution_count": 5,
   "id": "eac89d92",
   "metadata": {
    "scrolled": true
   },
   "outputs": [
    {
     "data": {
      "text/plain": [
       "'Goalkeeper'"
      ]
     },
     "execution_count": 5,
     "metadata": {},
     "output_type": "execute_result"
    }
   ],
   "source": [
    "# Pass a single column name in case to update that single column. loc() function also can do the same\n",
    "footballer_df.at[3, 'position'] = 'Goalkeeper'\n",
    "footballer_df.at[3, 'position']"
   ]
  },
  {
   "cell_type": "code",
   "execution_count": 6,
   "id": "f6cdf752",
   "metadata": {},
   "outputs": [
    {
     "data": {
      "text/html": [
       "<div>\n",
       "<style scoped>\n",
       "    .dataframe tbody tr th:only-of-type {\n",
       "        vertical-align: middle;\n",
       "    }\n",
       "\n",
       "    .dataframe tbody tr th {\n",
       "        vertical-align: top;\n",
       "    }\n",
       "\n",
       "    .dataframe thead th {\n",
       "        text-align: right;\n",
       "    }\n",
       "</style>\n",
       "<table border=\"1\" class=\"dataframe\">\n",
       "  <thead>\n",
       "    <tr style=\"text-align: right;\">\n",
       "      <th></th>\n",
       "      <th>first_name</th>\n",
       "      <th>last_name</th>\n",
       "      <th>age</th>\n",
       "      <th>position</th>\n",
       "      <th>club</th>\n",
       "      <th>nationality</th>\n",
       "    </tr>\n",
       "  </thead>\n",
       "  <tbody>\n",
       "    <tr>\n",
       "      <th>0</th>\n",
       "      <td>leonardo</td>\n",
       "      <td>Bonucci</td>\n",
       "      <td>32</td>\n",
       "      <td>Defender</td>\n",
       "      <td>Juventus</td>\n",
       "      <td>Italy</td>\n",
       "    </tr>\n",
       "    <tr>\n",
       "      <th>1</th>\n",
       "      <td>bernardo</td>\n",
       "      <td>Silva</td>\n",
       "      <td>26</td>\n",
       "      <td>Midfielder</td>\n",
       "      <td>Manchester United</td>\n",
       "      <td>Portugal</td>\n",
       "    </tr>\n",
       "    <tr>\n",
       "      <th>2</th>\n",
       "      <td>antoine</td>\n",
       "      <td>Griezmann</td>\n",
       "      <td>30</td>\n",
       "      <td>Forward</td>\n",
       "      <td>Barcelona</td>\n",
       "      <td>France</td>\n",
       "    </tr>\n",
       "    <tr>\n",
       "      <th>3</th>\n",
       "      <td>loris</td>\n",
       "      <td>Karius</td>\n",
       "      <td>28</td>\n",
       "      <td>Goalkeeper</td>\n",
       "      <td>Liverpool</td>\n",
       "      <td>Germany</td>\n",
       "    </tr>\n",
       "    <tr>\n",
       "      <th>4</th>\n",
       "      <td>alexis</td>\n",
       "      <td>Saelemaekers</td>\n",
       "      <td>22</td>\n",
       "      <td>Centre-Forward</td>\n",
       "      <td>A.C. Milan</td>\n",
       "      <td>Belgium</td>\n",
       "    </tr>\n",
       "  </tbody>\n",
       "</table>\n",
       "</div>"
      ],
      "text/plain": [
       "  first_name     last_name age        position               club nationality\n",
       "0   leonardo       Bonucci  32        Defender           Juventus       Italy\n",
       "1   bernardo         Silva  26      Midfielder  Manchester United    Portugal\n",
       "2    antoine     Griezmann  30         Forward          Barcelona      France\n",
       "3      loris        Karius  28      Goalkeeper          Liverpool     Germany\n",
       "4     alexis  Saelemaekers  22  Centre-Forward         A.C. Milan     Belgium"
      ]
     },
     "execution_count": 6,
     "metadata": {},
     "output_type": "execute_result"
    }
   ],
   "source": [
    "# Removed the trailing space from last_name field using Series Object's str class's strip() function \n",
    "# and assign it back\n",
    "footballer_df['last_name'] = footballer_df['last_name'].str.strip()\n",
    "footballer_df"
   ]
  },
  {
   "cell_type": "code",
   "execution_count": 7,
   "id": "a2413f3c",
   "metadata": {
    "scrolled": true
   },
   "outputs": [
    {
     "data": {
      "text/html": [
       "<div>\n",
       "<style scoped>\n",
       "    .dataframe tbody tr th:only-of-type {\n",
       "        vertical-align: middle;\n",
       "    }\n",
       "\n",
       "    .dataframe tbody tr th {\n",
       "        vertical-align: top;\n",
       "    }\n",
       "\n",
       "    .dataframe thead th {\n",
       "        text-align: right;\n",
       "    }\n",
       "</style>\n",
       "<table border=\"1\" class=\"dataframe\">\n",
       "  <thead>\n",
       "    <tr style=\"text-align: right;\">\n",
       "      <th></th>\n",
       "      <th>first_name</th>\n",
       "      <th>last_name</th>\n",
       "      <th>age</th>\n",
       "      <th>position</th>\n",
       "      <th>club</th>\n",
       "      <th>nationality</th>\n",
       "    </tr>\n",
       "  </thead>\n",
       "  <tbody>\n",
       "    <tr>\n",
       "      <th>0</th>\n",
       "      <td>leonardo</td>\n",
       "      <td>Bonucci</td>\n",
       "      <td>34</td>\n",
       "      <td>Defender</td>\n",
       "      <td>Juventus</td>\n",
       "      <td>Italy</td>\n",
       "    </tr>\n",
       "  </tbody>\n",
       "</table>\n",
       "</div>"
      ],
      "text/plain": [
       "  first_name last_name age  position      club nationality\n",
       "0   leonardo   Bonucci  34  Defender  Juventus       Italy"
      ]
     },
     "execution_count": 7,
     "metadata": {},
     "output_type": "execute_result"
    }
   ],
   "source": [
    "# Updating with Filter condition\n",
    "filt = (footballer_df['first_name'] == 'leonardo') & (footballer_df['last_name'] == 'Bonucci')\n",
    "footballer_df.loc[filt, 'age'] = '34'\n",
    "footballer_df.loc[filt]"
   ]
  },
  {
   "cell_type": "code",
   "execution_count": 8,
   "id": "50292d5b",
   "metadata": {
    "scrolled": true
   },
   "outputs": [
    {
     "name": "stderr",
     "output_type": "stream",
     "text": [
      "/usr/local/lib/python3.7/dist-packages/pandas/core/frame.py:3607: SettingWithCopyWarning: \n",
      "A value is trying to be set on a copy of a slice from a DataFrame.\n",
      "Try using .loc[row_indexer,col_indexer] = value instead\n",
      "\n",
      "See the caveats in the documentation: https://pandas.pydata.org/pandas-docs/stable/user_guide/indexing.html#returning-a-view-versus-a-copy\n",
      "  self._set_item(key, value)\n"
     ]
    }
   ],
   "source": [
    "# This way it does not update the value, notice the warning\n",
    "footballer_df[filt][\"age\"] = '32'"
   ]
  },
  {
   "cell_type": "code",
   "execution_count": 9,
   "id": "ce45e8fc",
   "metadata": {
    "scrolled": true
   },
   "outputs": [
    {
     "data": {
      "text/plain": [
       "first_name     leonardo\n",
       "last_name       Bonucci\n",
       "age                  34\n",
       "position       Defender\n",
       "club           Juventus\n",
       "nationality       Italy\n",
       "Name: 0, dtype: object"
      ]
     },
     "execution_count": 9,
     "metadata": {},
     "output_type": "execute_result"
    }
   ],
   "source": [
    "footballer_df.loc[0] # Its still '34', not updated"
   ]
  },
  {
   "cell_type": "code",
   "execution_count": 10,
   "id": "dd893852",
   "metadata": {
    "scrolled": true
   },
   "outputs": [
    {
     "data": {
      "text/plain": [
       "0     8\n",
       "1    17\n",
       "2     9\n",
       "3     9\n",
       "4    10\n",
       "Name: club, dtype: int64"
      ]
     },
     "execution_count": 10,
     "metadata": {},
     "output_type": "execute_result"
    }
   ],
   "source": [
    "# Getting lengh of each entry in \"club\" column\n",
    "footballer_df['club'].apply(len)  # Notice, () has not provided in the len Function"
   ]
  },
  {
   "cell_type": "code",
   "execution_count": 11,
   "id": "6a8d3fa7",
   "metadata": {
    "scrolled": true
   },
   "outputs": [
    {
     "data": {
      "text/plain": [
       "first_name     5\n",
       "last_name      5\n",
       "age            5\n",
       "position       5\n",
       "club           5\n",
       "nationality    5\n",
       "dtype: int64"
      ]
     },
     "execution_count": 11,
     "metadata": {},
     "output_type": "execute_result"
    }
   ],
   "source": [
    "# Used apply() Function in whole DataFrame\n",
    "footballer_df.apply(len)  # This Returns the number of entry in each column"
   ]
  },
  {
   "cell_type": "code",
   "execution_count": 12,
   "id": "7a33f295",
   "metadata": {},
   "outputs": [
    {
     "data": {
      "text/plain": [
       "0    6\n",
       "1    6\n",
       "2    6\n",
       "3    6\n",
       "4    6\n",
       "dtype: int64"
      ]
     },
     "execution_count": 12,
     "metadata": {},
     "output_type": "execute_result"
    }
   ],
   "source": [
    "footballer_df.apply(len, axis = 'columns')  # Default axis is rows"
   ]
  },
  {
   "cell_type": "code",
   "execution_count": 13,
   "id": "04fdbb35",
   "metadata": {
    "scrolled": true
   },
   "outputs": [
    {
     "data": {
      "text/html": [
       "<div>\n",
       "<style scoped>\n",
       "    .dataframe tbody tr th:only-of-type {\n",
       "        vertical-align: middle;\n",
       "    }\n",
       "\n",
       "    .dataframe tbody tr th {\n",
       "        vertical-align: top;\n",
       "    }\n",
       "\n",
       "    .dataframe thead th {\n",
       "        text-align: right;\n",
       "    }\n",
       "</style>\n",
       "<table border=\"1\" class=\"dataframe\">\n",
       "  <thead>\n",
       "    <tr style=\"text-align: right;\">\n",
       "      <th></th>\n",
       "      <th>first_name</th>\n",
       "      <th>last_name</th>\n",
       "      <th>age</th>\n",
       "      <th>position</th>\n",
       "      <th>club</th>\n",
       "      <th>nationality</th>\n",
       "    </tr>\n",
       "  </thead>\n",
       "  <tbody>\n",
       "    <tr>\n",
       "      <th>0</th>\n",
       "      <td>Leonardo</td>\n",
       "      <td>Bonucci</td>\n",
       "      <td>34</td>\n",
       "      <td>Defender</td>\n",
       "      <td>Juventus</td>\n",
       "      <td>Italy</td>\n",
       "    </tr>\n",
       "    <tr>\n",
       "      <th>1</th>\n",
       "      <td>Bernardo</td>\n",
       "      <td>Silva</td>\n",
       "      <td>26</td>\n",
       "      <td>Midfielder</td>\n",
       "      <td>Manchester United</td>\n",
       "      <td>Portugal</td>\n",
       "    </tr>\n",
       "    <tr>\n",
       "      <th>2</th>\n",
       "      <td>Antoine</td>\n",
       "      <td>Griezmann</td>\n",
       "      <td>30</td>\n",
       "      <td>Forward</td>\n",
       "      <td>Barcelona</td>\n",
       "      <td>France</td>\n",
       "    </tr>\n",
       "    <tr>\n",
       "      <th>3</th>\n",
       "      <td>Loris</td>\n",
       "      <td>Karius</td>\n",
       "      <td>28</td>\n",
       "      <td>Goalkeeper</td>\n",
       "      <td>Liverpool</td>\n",
       "      <td>Germany</td>\n",
       "    </tr>\n",
       "    <tr>\n",
       "      <th>4</th>\n",
       "      <td>Alexis</td>\n",
       "      <td>Saelemaekers</td>\n",
       "      <td>22</td>\n",
       "      <td>Centre-Forward</td>\n",
       "      <td>A.C. Milan</td>\n",
       "      <td>Belgium</td>\n",
       "    </tr>\n",
       "  </tbody>\n",
       "</table>\n",
       "</div>"
      ],
      "text/plain": [
       "  first_name     last_name age        position               club nationality\n",
       "0   Leonardo       Bonucci  34        Defender           Juventus       Italy\n",
       "1   Bernardo         Silva  26      Midfielder  Manchester United    Portugal\n",
       "2    Antoine     Griezmann  30         Forward          Barcelona      France\n",
       "3      Loris        Karius  28      Goalkeeper          Liverpool     Germany\n",
       "4     Alexis  Saelemaekers  22  Centre-Forward         A.C. Milan     Belgium"
      ]
     },
     "execution_count": 13,
     "metadata": {},
     "output_type": "execute_result"
    }
   ],
   "source": [
    "# Using apply() function converting the first character of first_name column to upper case\n",
    "footballer_df['first_name'] = footballer_df['first_name'].apply(lambda s: s.capitalize())\n",
    "footballer_df"
   ]
  },
  {
   "cell_type": "code",
   "execution_count": 14,
   "id": "3a25c03c",
   "metadata": {
    "scrolled": true
   },
   "outputs": [
    {
     "name": "stdout",
     "output_type": "stream",
     "text": [
      "<class 'pandas.core.frame.DataFrame'>\n",
      "RangeIndex: 5 entries, 0 to 4\n",
      "Data columns (total 6 columns):\n",
      " #   Column       Non-Null Count  Dtype \n",
      "---  ------       --------------  ----- \n",
      " 0   first_name   5 non-null      object\n",
      " 1   last_name    5 non-null      object\n",
      " 2   age          5 non-null      int64 \n",
      " 3   position     5 non-null      object\n",
      " 4   club         5 non-null      object\n",
      " 5   nationality  5 non-null      object\n",
      "dtypes: int64(1), object(5)\n",
      "memory usage: 368.0+ bytes\n"
     ]
    }
   ],
   "source": [
    "# Changed the datatype of values in 'age' column\n",
    "footballer_df['age'] = footballer_df['age'].apply(lambda e: int(e))\n",
    "footballer_df.info()"
   ]
  },
  {
   "cell_type": "code",
   "execution_count": 15,
   "id": "c00ecc6c",
   "metadata": {
    "scrolled": true
   },
   "outputs": [
    {
     "data": {
      "text/plain": [
       "first_name             Alexis\n",
       "last_name             Bonucci\n",
       "age                        22\n",
       "position       Centre-Forward\n",
       "club               A.C. Milan\n",
       "nationality           Belgium\n",
       "dtype: object"
      ]
     },
     "execution_count": 15,
     "metadata": {},
     "output_type": "execute_result"
    }
   ],
   "source": [
    "# Applying function to each Series object in the DataFrame, approach-1\n",
    "footballer_df.apply(pd.Series.min)"
   ]
  },
  {
   "cell_type": "code",
   "execution_count": 16,
   "id": "ab725eb2",
   "metadata": {
    "scrolled": true
   },
   "outputs": [
    {
     "data": {
      "text/plain": [
       "first_name             Alexis\n",
       "last_name             Bonucci\n",
       "age                        22\n",
       "position       Centre-Forward\n",
       "club               A.C. Milan\n",
       "nationality           Belgium\n",
       "dtype: object"
      ]
     },
     "execution_count": 16,
     "metadata": {},
     "output_type": "execute_result"
    }
   ],
   "source": [
    "# Applying function to each Series object in the DataFrame, approach-2\n",
    "footballer_df.apply(lambda s: s.min())"
   ]
  },
  {
   "cell_type": "code",
   "execution_count": 17,
   "id": "004758d6",
   "metadata": {
    "scrolled": true
   },
   "outputs": [
    {
     "data": {
      "text/html": [
       "<div>\n",
       "<style scoped>\n",
       "    .dataframe tbody tr th:only-of-type {\n",
       "        vertical-align: middle;\n",
       "    }\n",
       "\n",
       "    .dataframe tbody tr th {\n",
       "        vertical-align: top;\n",
       "    }\n",
       "\n",
       "    .dataframe thead th {\n",
       "        text-align: right;\n",
       "    }\n",
       "</style>\n",
       "<table border=\"1\" class=\"dataframe\">\n",
       "  <thead>\n",
       "    <tr style=\"text-align: right;\">\n",
       "      <th></th>\n",
       "      <th>club</th>\n",
       "      <th>first_name</th>\n",
       "      <th>last_name</th>\n",
       "      <th>nationality</th>\n",
       "      <th>position</th>\n",
       "    </tr>\n",
       "  </thead>\n",
       "  <tbody>\n",
       "    <tr>\n",
       "      <th>0</th>\n",
       "      <td>8</td>\n",
       "      <td>8</td>\n",
       "      <td>7</td>\n",
       "      <td>5</td>\n",
       "      <td>8</td>\n",
       "    </tr>\n",
       "    <tr>\n",
       "      <th>1</th>\n",
       "      <td>17</td>\n",
       "      <td>8</td>\n",
       "      <td>5</td>\n",
       "      <td>8</td>\n",
       "      <td>10</td>\n",
       "    </tr>\n",
       "    <tr>\n",
       "      <th>2</th>\n",
       "      <td>9</td>\n",
       "      <td>7</td>\n",
       "      <td>9</td>\n",
       "      <td>6</td>\n",
       "      <td>7</td>\n",
       "    </tr>\n",
       "    <tr>\n",
       "      <th>3</th>\n",
       "      <td>9</td>\n",
       "      <td>5</td>\n",
       "      <td>6</td>\n",
       "      <td>7</td>\n",
       "      <td>10</td>\n",
       "    </tr>\n",
       "    <tr>\n",
       "      <th>4</th>\n",
       "      <td>10</td>\n",
       "      <td>6</td>\n",
       "      <td>12</td>\n",
       "      <td>7</td>\n",
       "      <td>14</td>\n",
       "    </tr>\n",
       "  </tbody>\n",
       "</table>\n",
       "</div>"
      ],
      "text/plain": [
       "   club  first_name  last_name  nationality  position\n",
       "0     8           8          7            5         8\n",
       "1    17           8          5            8        10\n",
       "2     9           7          9            6         7\n",
       "3     9           5          6            7        10\n",
       "4    10           6         12            7        14"
      ]
     },
     "execution_count": 17,
     "metadata": {},
     "output_type": "execute_result"
    }
   ],
   "source": [
    "# Selecting all columns except \"age\"\n",
    "cols = footballer_df.columns.difference(['age'])\n",
    "# Applying len() Function to each element in DataFrame with selected columns\n",
    "footballer_df[cols].applymap(len)"
   ]
  },
  {
   "cell_type": "code",
   "execution_count": 18,
   "id": "f61293ce",
   "metadata": {},
   "outputs": [
    {
     "data": {
      "text/plain": [
       "0                NaN\n",
       "1    Manchester City\n",
       "2                NaN\n",
       "3                NaN\n",
       "4                NaN\n",
       "Name: club, dtype: object"
      ]
     },
     "execution_count": 18,
     "metadata": {},
     "output_type": "execute_result"
    }
   ],
   "source": [
    "# Changing value using map() Function\n",
    "footballer_df['club'].map({'Manchester United':'Manchester City'}, na_action='ignore')"
   ]
  },
  {
   "cell_type": "code",
   "execution_count": 19,
   "id": "b48787bc",
   "metadata": {
    "scrolled": true
   },
   "outputs": [
    {
     "data": {
      "text/plain": [
       "0        Defender\n",
       "1      Midfielder\n",
       "2         Forward\n",
       "3      Goalkeeper\n",
       "4    Right Winger\n",
       "Name: position, dtype: object"
      ]
     },
     "execution_count": 19,
     "metadata": {},
     "output_type": "execute_result"
    }
   ],
   "source": [
    "# Changing value using replace() Function\n",
    "footballer_df['position'].replace({'Centre-Forward':'Right Winger'})"
   ]
  },
  {
   "cell_type": "code",
   "execution_count": 20,
   "id": "68747dac",
   "metadata": {
    "scrolled": true
   },
   "outputs": [
    {
     "data": {
      "text/html": [
       "<div>\n",
       "<style scoped>\n",
       "    .dataframe tbody tr th:only-of-type {\n",
       "        vertical-align: middle;\n",
       "    }\n",
       "\n",
       "    .dataframe tbody tr th {\n",
       "        vertical-align: top;\n",
       "    }\n",
       "\n",
       "    .dataframe thead th {\n",
       "        text-align: right;\n",
       "    }\n",
       "</style>\n",
       "<table border=\"1\" class=\"dataframe\">\n",
       "  <thead>\n",
       "    <tr style=\"text-align: right;\">\n",
       "      <th></th>\n",
       "      <th>first_name</th>\n",
       "      <th>last_name</th>\n",
       "      <th>age</th>\n",
       "      <th>position</th>\n",
       "      <th>club</th>\n",
       "      <th>nationality</th>\n",
       "    </tr>\n",
       "  </thead>\n",
       "  <tbody>\n",
       "    <tr>\n",
       "      <th>0</th>\n",
       "      <td>Leonardo</td>\n",
       "      <td>Bonucci</td>\n",
       "      <td>34.0</td>\n",
       "      <td>Defender</td>\n",
       "      <td>Juventus</td>\n",
       "      <td>Italy</td>\n",
       "    </tr>\n",
       "    <tr>\n",
       "      <th>1</th>\n",
       "      <td>Bernardo</td>\n",
       "      <td>Silva</td>\n",
       "      <td>26.0</td>\n",
       "      <td>Midfielder</td>\n",
       "      <td>Manchester United</td>\n",
       "      <td>Portugal</td>\n",
       "    </tr>\n",
       "    <tr>\n",
       "      <th>2</th>\n",
       "      <td>Antoine</td>\n",
       "      <td>Griezmann</td>\n",
       "      <td>30.0</td>\n",
       "      <td>Forward</td>\n",
       "      <td>Barcelona</td>\n",
       "      <td>France</td>\n",
       "    </tr>\n",
       "    <tr>\n",
       "      <th>3</th>\n",
       "      <td>Loris</td>\n",
       "      <td>Karius</td>\n",
       "      <td>28.0</td>\n",
       "      <td>Goalkeeper</td>\n",
       "      <td>Liverpool</td>\n",
       "      <td>Germany</td>\n",
       "    </tr>\n",
       "    <tr>\n",
       "      <th>4</th>\n",
       "      <td>Alexis</td>\n",
       "      <td>Saelemaekers</td>\n",
       "      <td>22.0</td>\n",
       "      <td>Centre-Forward</td>\n",
       "      <td>A.C. Milan</td>\n",
       "      <td>Belgium</td>\n",
       "    </tr>\n",
       "    <tr>\n",
       "      <th>5</th>\n",
       "      <td>Thomas</td>\n",
       "      <td>Partey</td>\n",
       "      <td>NaN</td>\n",
       "      <td>NaN</td>\n",
       "      <td>NaN</td>\n",
       "      <td>Ghana</td>\n",
       "    </tr>\n",
       "  </tbody>\n",
       "</table>\n",
       "</div>"
      ],
      "text/plain": [
       "  first_name     last_name   age        position               club  \\\n",
       "0   Leonardo       Bonucci  34.0        Defender           Juventus   \n",
       "1   Bernardo         Silva  26.0      Midfielder  Manchester United   \n",
       "2    Antoine     Griezmann  30.0         Forward          Barcelona   \n",
       "3      Loris        Karius  28.0      Goalkeeper          Liverpool   \n",
       "4     Alexis  Saelemaekers  22.0  Centre-Forward         A.C. Milan   \n",
       "5     Thomas        Partey   NaN             NaN                NaN   \n",
       "\n",
       "  nationality  \n",
       "0       Italy  \n",
       "1    Portugal  \n",
       "2      France  \n",
       "3     Germany  \n",
       "4     Belgium  \n",
       "5       Ghana  "
      ]
     },
     "execution_count": 20,
     "metadata": {},
     "output_type": "execute_result"
    }
   ],
   "source": [
    "# Adding a row using append() Function, it accepts Dict object to add row, only if ignore_index=True is provided\n",
    "# This returns a new DataFrame with Appended row. Assign this returned DataFrame to the original one if\n",
    "# you want to keep this change\n",
    "footballer_df.append({'first_name':'Thomas','last_name':'Partey', 'nationality':'Ghana'}, ignore_index=True)"
   ]
  },
  {
   "cell_type": "code",
   "execution_count": 21,
   "id": "c161d247",
   "metadata": {
    "scrolled": true
   },
   "outputs": [
    {
     "data": {
      "text/html": [
       "<div>\n",
       "<style scoped>\n",
       "    .dataframe tbody tr th:only-of-type {\n",
       "        vertical-align: middle;\n",
       "    }\n",
       "\n",
       "    .dataframe tbody tr th {\n",
       "        vertical-align: top;\n",
       "    }\n",
       "\n",
       "    .dataframe thead th {\n",
       "        text-align: right;\n",
       "    }\n",
       "</style>\n",
       "<table border=\"1\" class=\"dataframe\">\n",
       "  <thead>\n",
       "    <tr style=\"text-align: right;\">\n",
       "      <th></th>\n",
       "      <th>first_name</th>\n",
       "      <th>last_name</th>\n",
       "      <th>age</th>\n",
       "      <th>position</th>\n",
       "      <th>club</th>\n",
       "      <th>nationality</th>\n",
       "    </tr>\n",
       "  </thead>\n",
       "  <tbody>\n",
       "    <tr>\n",
       "      <th>0</th>\n",
       "      <td>Leonardo</td>\n",
       "      <td>Bonucci</td>\n",
       "      <td>34</td>\n",
       "      <td>Defender</td>\n",
       "      <td>Juventus</td>\n",
       "      <td>Italy</td>\n",
       "    </tr>\n",
       "    <tr>\n",
       "      <th>1</th>\n",
       "      <td>Bernardo</td>\n",
       "      <td>Silva</td>\n",
       "      <td>26</td>\n",
       "      <td>Midfielder</td>\n",
       "      <td>Manchester United</td>\n",
       "      <td>Portugal</td>\n",
       "    </tr>\n",
       "    <tr>\n",
       "      <th>2</th>\n",
       "      <td>Antoine</td>\n",
       "      <td>Griezmann</td>\n",
       "      <td>30</td>\n",
       "      <td>Forward</td>\n",
       "      <td>Barcelona</td>\n",
       "      <td>France</td>\n",
       "    </tr>\n",
       "    <tr>\n",
       "      <th>3</th>\n",
       "      <td>Loris</td>\n",
       "      <td>Karius</td>\n",
       "      <td>28</td>\n",
       "      <td>Goalkeeper</td>\n",
       "      <td>Liverpool</td>\n",
       "      <td>Germany</td>\n",
       "    </tr>\n",
       "    <tr>\n",
       "      <th>4</th>\n",
       "      <td>Alexis</td>\n",
       "      <td>Saelemaekers</td>\n",
       "      <td>22</td>\n",
       "      <td>Centre-Forward</td>\n",
       "      <td>A.C. Milan</td>\n",
       "      <td>Belgium</td>\n",
       "    </tr>\n",
       "  </tbody>\n",
       "</table>\n",
       "</div>"
      ],
      "text/plain": [
       "  first_name     last_name  age        position               club nationality\n",
       "0   Leonardo       Bonucci   34        Defender           Juventus       Italy\n",
       "1   Bernardo         Silva   26      Midfielder  Manchester United    Portugal\n",
       "2    Antoine     Griezmann   30         Forward          Barcelona      France\n",
       "3      Loris        Karius   28      Goalkeeper          Liverpool     Germany\n",
       "4     Alexis  Saelemaekers   22  Centre-Forward         A.C. Milan     Belgium"
      ]
     },
     "execution_count": 21,
     "metadata": {},
     "output_type": "execute_result"
    }
   ],
   "source": [
    "footballer_df"
   ]
  },
  {
   "cell_type": "code",
   "execution_count": 22,
   "id": "4ceb452f",
   "metadata": {},
   "outputs": [],
   "source": [
    "new_footballer = {\"first_name\":[\"Thomas\", \"Andriy\"],\n",
    "          \"last_name\":[\"Partey \", \"Lunin\"],\n",
    "          \"age\": [28, \"22\"],\n",
    "          \"position\":[\"Midfielder\", \"Goalkeeper\"],\n",
    "          \"club\":[\"Arsenal\", \"Real Madrid\"],\n",
    "          \"nationality\": [\"Ghana\", \"Ukraine\"]\n",
    "        }"
   ]
  },
  {
   "cell_type": "code",
   "execution_count": 23,
   "id": "b638b1dd",
   "metadata": {
    "scrolled": true
   },
   "outputs": [
    {
     "data": {
      "text/html": [
       "<div>\n",
       "<style scoped>\n",
       "    .dataframe tbody tr th:only-of-type {\n",
       "        vertical-align: middle;\n",
       "    }\n",
       "\n",
       "    .dataframe tbody tr th {\n",
       "        vertical-align: top;\n",
       "    }\n",
       "\n",
       "    .dataframe thead th {\n",
       "        text-align: right;\n",
       "    }\n",
       "</style>\n",
       "<table border=\"1\" class=\"dataframe\">\n",
       "  <thead>\n",
       "    <tr style=\"text-align: right;\">\n",
       "      <th></th>\n",
       "      <th>first_name</th>\n",
       "      <th>last_name</th>\n",
       "      <th>age</th>\n",
       "      <th>position</th>\n",
       "      <th>club</th>\n",
       "      <th>nationality</th>\n",
       "    </tr>\n",
       "  </thead>\n",
       "  <tbody>\n",
       "    <tr>\n",
       "      <th>0</th>\n",
       "      <td>Thomas</td>\n",
       "      <td>Partey</td>\n",
       "      <td>28</td>\n",
       "      <td>Midfielder</td>\n",
       "      <td>Arsenal</td>\n",
       "      <td>Ghana</td>\n",
       "    </tr>\n",
       "    <tr>\n",
       "      <th>1</th>\n",
       "      <td>Andriy</td>\n",
       "      <td>Lunin</td>\n",
       "      <td>22</td>\n",
       "      <td>Goalkeeper</td>\n",
       "      <td>Real Madrid</td>\n",
       "      <td>Ukraine</td>\n",
       "    </tr>\n",
       "  </tbody>\n",
       "</table>\n",
       "</div>"
      ],
      "text/plain": [
       "  first_name last_name age    position         club nationality\n",
       "0     Thomas   Partey   28  Midfielder      Arsenal       Ghana\n",
       "1     Andriy     Lunin  22  Goalkeeper  Real Madrid     Ukraine"
      ]
     },
     "execution_count": 23,
     "metadata": {},
     "output_type": "execute_result"
    }
   ],
   "source": [
    "# Created another DataFrame\n",
    "new_footballer_df = pd.DataFrame(new_footballer)\n",
    "new_footballer_df"
   ]
  },
  {
   "cell_type": "code",
   "execution_count": 24,
   "id": "71fadbb5",
   "metadata": {},
   "outputs": [],
   "source": [
    "# Appended one DataFrame to another one\n",
    "footballer_df = footballer_df.append(new_footballer_df, ignore_index=True)"
   ]
  },
  {
   "cell_type": "code",
   "execution_count": 91,
   "id": "5488cbeb",
   "metadata": {},
   "outputs": [
    {
     "data": {
      "text/html": [
       "<div>\n",
       "<style scoped>\n",
       "    .dataframe tbody tr th:only-of-type {\n",
       "        vertical-align: middle;\n",
       "    }\n",
       "\n",
       "    .dataframe tbody tr th {\n",
       "        vertical-align: top;\n",
       "    }\n",
       "\n",
       "    .dataframe thead th {\n",
       "        text-align: right;\n",
       "    }\n",
       "</style>\n",
       "<table border=\"1\" class=\"dataframe\">\n",
       "  <thead>\n",
       "    <tr style=\"text-align: right;\">\n",
       "      <th></th>\n",
       "      <th>first_name</th>\n",
       "      <th>last_name</th>\n",
       "      <th>age</th>\n",
       "      <th>position</th>\n",
       "      <th>club</th>\n",
       "      <th>nationality</th>\n",
       "    </tr>\n",
       "  </thead>\n",
       "  <tbody>\n",
       "    <tr>\n",
       "      <th>0</th>\n",
       "      <td>Leonardo</td>\n",
       "      <td>Bonucci</td>\n",
       "      <td>34</td>\n",
       "      <td>Defender</td>\n",
       "      <td>Juventus</td>\n",
       "      <td>Italy</td>\n",
       "    </tr>\n",
       "    <tr>\n",
       "      <th>1</th>\n",
       "      <td>Bernardo</td>\n",
       "      <td>Silva</td>\n",
       "      <td>26</td>\n",
       "      <td>Midfielder</td>\n",
       "      <td>Manchester United</td>\n",
       "      <td>Portugal</td>\n",
       "    </tr>\n",
       "    <tr>\n",
       "      <th>2</th>\n",
       "      <td>Antoine</td>\n",
       "      <td>Griezmann</td>\n",
       "      <td>30</td>\n",
       "      <td>Forward</td>\n",
       "      <td>Barcelona</td>\n",
       "      <td>France</td>\n",
       "    </tr>\n",
       "    <tr>\n",
       "      <th>3</th>\n",
       "      <td>Loris</td>\n",
       "      <td>Karius</td>\n",
       "      <td>28</td>\n",
       "      <td>Goalkeeper</td>\n",
       "      <td>Liverpool</td>\n",
       "      <td>Germany</td>\n",
       "    </tr>\n",
       "    <tr>\n",
       "      <th>4</th>\n",
       "      <td>Alexis</td>\n",
       "      <td>Saelemaekers</td>\n",
       "      <td>22</td>\n",
       "      <td>Centre-Forward</td>\n",
       "      <td>A.C. Milan</td>\n",
       "      <td>Belgium</td>\n",
       "    </tr>\n",
       "    <tr>\n",
       "      <th>5</th>\n",
       "      <td>Thomas</td>\n",
       "      <td>Partey</td>\n",
       "      <td>28</td>\n",
       "      <td>Midfielder</td>\n",
       "      <td>Arsenal</td>\n",
       "      <td>Ghana</td>\n",
       "    </tr>\n",
       "    <tr>\n",
       "      <th>6</th>\n",
       "      <td>Andriy</td>\n",
       "      <td>Lunin</td>\n",
       "      <td>22</td>\n",
       "      <td>Goalkeeper</td>\n",
       "      <td>Real Madrid</td>\n",
       "      <td>Ukraine</td>\n",
       "    </tr>\n",
       "    <tr>\n",
       "      <th>7</th>\n",
       "      <td>Thomas</td>\n",
       "      <td>Partey</td>\n",
       "      <td>28</td>\n",
       "      <td>Midfielder</td>\n",
       "      <td>Arsenal</td>\n",
       "      <td>Ghana</td>\n",
       "    </tr>\n",
       "    <tr>\n",
       "      <th>8</th>\n",
       "      <td>Andriy</td>\n",
       "      <td>Lunin</td>\n",
       "      <td>22</td>\n",
       "      <td>Goalkeeper</td>\n",
       "      <td>Real Madrid</td>\n",
       "      <td>Ukraine</td>\n",
       "    </tr>\n",
       "  </tbody>\n",
       "</table>\n",
       "</div>"
      ],
      "text/plain": [
       "  first_name     last_name age        position               club nationality\n",
       "0   Leonardo       Bonucci  34        Defender           Juventus       Italy\n",
       "1   Bernardo         Silva  26      Midfielder  Manchester United    Portugal\n",
       "2    Antoine     Griezmann  30         Forward          Barcelona      France\n",
       "3      Loris        Karius  28      Goalkeeper          Liverpool     Germany\n",
       "4     Alexis  Saelemaekers  22  Centre-Forward         A.C. Milan     Belgium\n",
       "5     Thomas       Partey   28      Midfielder            Arsenal       Ghana\n",
       "6     Andriy         Lunin  22      Goalkeeper        Real Madrid     Ukraine\n",
       "7     Thomas       Partey   28      Midfielder            Arsenal       Ghana\n",
       "8     Andriy         Lunin  22      Goalkeeper        Real Madrid     Ukraine"
      ]
     },
     "execution_count": 91,
     "metadata": {},
     "output_type": "execute_result"
    }
   ],
   "source": [
    "footballer_df"
   ]
  }
 ],
 "metadata": {
  "kernelspec": {
   "display_name": "Python 3",
   "language": "python",
   "name": "python3"
  },
  "language_info": {
   "codemirror_mode": {
    "name": "ipython",
    "version": 3
   },
   "file_extension": ".py",
   "mimetype": "text/x-python",
   "name": "python",
   "nbconvert_exporter": "python",
   "pygments_lexer": "ipython3",
   "version": "3.7.11"
  }
 },
 "nbformat": 4,
 "nbformat_minor": 5
}
